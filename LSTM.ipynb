{
 "cells": [
  {
   "cell_type": "markdown",
   "metadata": {
    "collapsed": true
   },
   "source": [
    "# This is a sample for how to run LSTM to learn a sequence\n",
    "*adapted from [here](http://machinelearningmastery.com/understanding-stateful-lstm-recurrent-neural-networks-python-keras/)*"
   ]
  },
  {
   "cell_type": "code",
   "execution_count": 2,
   "metadata": {},
   "outputs": [
    {
     "name": "stderr",
     "output_type": "stream",
     "text": [
      "Using TensorFlow backend.\n"
     ]
    }
   ],
   "source": [
    "from pandas import DataFrame\n",
    "from pandas import Series\n",
    "from pandas import concat\n",
    "from pandas import read_csv\n",
    "from pandas import datetime\n",
    "from sklearn.metrics import mean_squared_error\n",
    "from sklearn.preprocessing import MinMaxScaler\n",
    "\n",
    "from keras.models import Sequential\n",
    "from keras.layers import Dense\n",
    "from keras.layers import LSTM\n",
    "from keras.utils import np_utils\n",
    "\n",
    "from scipy import signal, misc\n",
    "\n",
    "from math import sqrt\n",
    "import numpy as np\n",
    "from numpy import concatenate\n",
    "from sklearn.metrics import mean_squared_error\n",
    "\n",
    "import matplotlib.pyplot as plt\n",
    "%matplotlib inline"
   ]
  },
  {
   "cell_type": "markdown",
   "metadata": {},
   "source": [
    "# Generate or Load data"
   ]
  },
  {
   "cell_type": "code",
   "execution_count": 3,
   "metadata": {},
   "outputs": [],
   "source": [
    "# fix random seed for reproducibility\n",
    "np.random.seed(7)\n",
    "\n",
    "# import raw dataset\n",
    "# alphabet = \"ABCDEFGHIJKLMNOPQRSTUVWXYZ\"\n",
    "# create mapping of characters to integers (0-25) and the reverse\n",
    "# char_to_int = dict((c, i) for i, c in enumerate(alphabet))\n",
    "# int_to_char = dict((i, c) for i, c in enumerate(alphabet))\n",
    "\n",
    "# generate sine\n",
    "Fs = 32000 # sample rate \n",
    "Freq = 1000 # frequency\n",
    "samples = 64 # samples\n",
    "t = np.linspace(0, 1/Fs * samples, samples) # generate samples\n",
    "# sine = signal.sawtooth( 0.5 * (2 * np.pi) * Freq * t)\n",
    "sine = .5 * np.sin(2 * np.pi * Freq * t)\n",
    "sine = sine + .5; # offset\n",
    "\n",
    "# sine.shape\n",
    "# saw = np.sin(2 * np.pi * Freq * t)\n"
   ]
  },
  {
   "cell_type": "code",
   "execution_count": 4,
   "metadata": {},
   "outputs": [
    {
     "data": {
      "image/png": "[encoded data removed]",
      "text/plain": [
       "<matplotlib.figure.Figure at 0x10c4404a8>"
      ]
     },
     "metadata": {},
     "output_type": "display_data"
    }
   ],
   "source": [
    "plt.plot(t, sine)\n",
    "plt.grid()"
   ]
  },
  {
   "cell_type": "code",
   "execution_count": 5,
   "metadata": {},
   "outputs": [
    {
     "name": "stdout",
     "output_type": "stream",
     "text": [
      "[array([ 0.5])] -> 0.5990730716\n",
      "[array([ 0.59907307])] -> 0.694217398137\n",
      "[array([ 0.6942174])] -> 0.781660029032\n",
      "[array([ 0.78166003])] -> 0.85793342463\n",
      "[array([ 0.85793342])] -> 0.920012961575\n",
      "[array([ 0.92001296])] -> 0.965436874322\n",
      "[array([ 0.96543687])] -> 0.992403876506\n",
      "[array([ 0.99240388])] -> 0.999844591\n",
      "[array([ 0.99984459])] -> 0.987463956091\n",
      "[array([ 0.98746396])] -> 0.955752926156\n",
      "[array([ 0.95575293])] -> 0.905969002858\n",
      "[array([ 0.905969])] -> 0.840086368885\n",
      "[array([ 0.84008637])] -> 0.76071760169\n",
      "[array([ 0.7607176])] -> 0.671010071663\n",
      "[array([ 0.67101007])] -> 0.574521133088\n",
      "[array([ 0.57452113])] -> 0.47507705717\n",
      "[array([ 0.47507706])] -> 0.376621301155\n",
      "[array([ 0.3766213])] -> 0.283058130441\n",
      "[array([ 0.28305813])] -> 0.198097794837\n",
      "[array([ 0.19809779])] -> 0.125109398516\n",
      "[array([ 0.1251094])] -> 0.0669872981078\n",
      "[array([ 0.0669873])] -> 0.0260363269164\n",
      "[array([ 0.02603633])] -> 0.00388039669991\n",
      "[array([ 0.0038804])] -> 0.00139810140941\n",
      "[array([ 0.0013981])] -> 0.018687876525\n",
      "[array([ 0.01868788])] -> 0.0550640955943\n",
      "[array([ 0.0550641])] -> 0.109084258766\n",
      "[array([ 0.10908426])] -> 0.178606195157\n",
      "[array([ 0.1786062])] -> 0.260873010689\n",
      "[array([ 0.26087301])] -> 0.352622412795\n",
      "[array([ 0.35262241])] -> 0.450216076702\n",
      "[array([ 0.45021608])] -> 0.549783923298\n",
      "[array([ 0.54978392])] -> 0.647377587205\n",
      "[array([ 0.64737759])] -> 0.739126989311\n",
      "[array([ 0.73912699])] -> 0.821393804843\n",
      "[array([ 0.8213938])] -> 0.890915741234\n",
      "[array([ 0.89091574])] -> 0.944935904406\n",
      "[array([ 0.9449359])] -> 0.981312123475\n",
      "[array([ 0.98131212])] -> 0.998601898591\n",
      "[array([ 0.9986019])] -> 0.9961196033\n",
      "[array([ 0.9961196])] -> 0.973963673084\n",
      "[array([ 0.97396367])] -> 0.933012701892\n",
      "[array([ 0.9330127])] -> 0.874890601484\n",
      "[array([ 0.8748906])] -> 0.801902205163\n",
      "[array([ 0.80190221])] -> 0.716941869559\n",
      "[array([ 0.71694187])] -> 0.623378698845\n",
      "[array([ 0.6233787])] -> 0.52492294283\n",
      "[array([ 0.52492294])] -> 0.425478866912\n",
      "[array([ 0.42547887])] -> 0.328989928337\n",
      "[array([ 0.32898993])] -> 0.23928239831\n",
      "[array([ 0.2392824])] -> 0.159913631115\n",
      "[array([ 0.15991363])] -> 0.0940309971421\n",
      "[array([ 0.094031])] -> 0.0442470738442\n",
      "[array([ 0.04424707])] -> 0.0125360439091\n",
      "[array([ 0.01253604])] -> 0.000155408999592\n",
      "[array([ 0.00015541])] -> 0.0075961234939\n",
      "[array([ 0.00759612])] -> 0.0345631256779\n",
      "[array([ 0.03456313])] -> 0.0799870384246\n",
      "[array([ 0.07998704])] -> 0.14206657537\n",
      "[array([ 0.14206658])] -> 0.218339970968\n",
      "[array([ 0.21833997])] -> 0.305782601863\n",
      "[array([ 0.3057826])] -> 0.4009269284\n",
      "[array([ 0.40092693])] -> 0.5\n"
     ]
    }
   ],
   "source": [
    "# prepare the dataset of input to output pairs encoded as integers\n",
    "seq_length = 1\n",
    "dataX = []\n",
    "dataY = []\n",
    "\n",
    "# alphabet = \"ABCDEFGHIJKLMNOPQRSTUVWXYZ\"\n",
    "# # create mapping of characters to integers (0-25) and the reverse\n",
    "# char_to_int = dict((c, i) for i, c in enumerate(alphabet))\n",
    "# int_to_char = dict((i, c) for i, c in enumerate(alphabet))\n",
    "# for i in range(0, len(alphabet) - seq_length, 1):\n",
    "# \tseq_in = alphabet[i:i + seq_length]\n",
    "# \tseq_out = alphabet[i + seq_length]\n",
    "# \tdataX.append([char_to_int[char] for char in seq_in])\n",
    "# \tdataY.append(char_to_int[seq_out])\n",
    "# \tprint(seq_in, '->', seq_out)\n",
    "\n",
    "    \n",
    "# TODO: normalize data\n",
    "for i in range(0, len(sine) - seq_length, 1):\n",
    "    seq_in = [sine[i:i + seq_length]]\n",
    "    seq_out = sine[i + seq_length]\n",
    "    dataX.append(seq_in)\n",
    "    dataY.append(seq_out)\n",
    "    print(seq_in, '->', seq_out)"
   ]
  },
  {
   "cell_type": "code",
   "execution_count": 6,
   "metadata": {},
   "outputs": [
    {
     "name": "stdout",
     "output_type": "stream",
     "text": [
      "(63, 1, 1)\n",
      "(63, 1)\n"
     ]
    }
   ],
   "source": [
    "# reshape X to be [samples, time steps, features]\n",
    "X = np.reshape(dataX, (len(dataX), seq_length, 1))\n",
    "# X = np.reshape(dataX, (X.shape[0], seq_length, 1))\n",
    "\n",
    "# normalize\n",
    "# X = X / float(len(alphabet))\n",
    "# one hot encode the output variable\n",
    "# y = np_utils.to_categorical(dataY)\n",
    "\n",
    "y = np.reshape(dataY, (len(dataY), 1))\n",
    "print(X.shape)\n",
    "print(y.shape)"
   ]
  },
  {
   "cell_type": "code",
   "execution_count": 27,
   "metadata": {},
   "outputs": [
    {
     "name": "stdout",
     "output_type": "stream",
     "text": [
      "Train Score (less is better): 0.07 RMSE\n"
     ]
    }
   ],
   "source": [
    "# create and fit the model\n",
    "model = Sequential()\n",
    "model.add(LSTM(2, input_shape=(X.shape[1], X.shape[2])))\n",
    "model.add(Dense(y.shape[1]))\n",
    "model.compile(loss='mean_squared_error', optimizer='adam')\n",
    "# model.compile(loss='mean_squared_error', optimizer='adam')\n",
    "\n",
    "\n",
    "\n",
    "# model.fit(X, y, epochs=10, batch_size=1, verbose=2)\n",
    "model.fit(X, y, epochs=1000, batch_size=len(dataX), verbose=0, shuffle=False)\n",
    "\n",
    "# summarize performance of the model\n",
    "# TODO: this doesnt work for regression\n",
    "# scores = model.evaluate(X, y, verbose=0)\n",
    "# print(\"Model Accuracy: %.2f%%\" % (scores[1]*100))\n",
    "\n",
    "# calculate root mean squared error\n",
    "# trainScore = math.sqrt(mean_squared_error(trainY[0], trainPredict[:,0]))\n",
    "trainScore = np.sqrt(mean_squared_error(model.predict(X), y))\n",
    "print('Train Score (less is better): %.2f RMSE' % (trainScore))\n",
    "# testScore = math.sqrt(mean_squared_error(testY[0], testPredict[:,0]))\n",
    "# print('Test Score: %.2f RMSE' % (testScore))"
   ]
  },
  {
   "cell_type": "code",
   "execution_count": 31,
   "metadata": {},
   "outputs": [
    {
     "data": {
      "text/plain": [
       "0.071276112987198534"
      ]
     },
     "execution_count": 31,
     "metadata": {},
     "output_type": "execute_result"
    }
   ],
   "source": []
  },
  {
   "cell_type": "code",
   "execution_count": 32,
   "metadata": {},
   "outputs": [
    {
     "data": {
      "text/plain": [
       "[<matplotlib.lines.Line2D at 0x142d62e10>]"
      ]
     },
     "execution_count": 32,
     "metadata": {},
     "output_type": "execute_result"
    },
    {
     "data": {
      "image/png": "[encoded data removed]",
      "text/plain": [
       "<matplotlib.figure.Figure at 0x140117ba8>"
      ]
     },
     "metadata": {},
     "output_type": "display_data"
    }
   ],
   "source": [
    "# print(model.predict(X))\n",
    "# plt.plot(model.predict(X[1:30,:]))\n",
    "plt.plot(model.predict(X)[1:-1])\n",
    "plt.plot(y)\n",
    "\n"
   ]
  },
  {
   "cell_type": "code",
   "execution_count": 33,
   "metadata": {},
   "outputs": [
    {
     "name": "stdout",
     "output_type": "stream",
     "text": [
      "first values [ 0.6942174   0.78166003  0.85793342  0.92001296]\n",
      "pure predictions [0.70020157, 0.78059304, 0.84705901, 0.89843798]\n",
      "gen predictions [0.70020157, 0.70583451, 0.71112001, 0.71606457]\n"
     ]
    },
    {
     "data": {
      "text/plain": [
       "[<matplotlib.lines.Line2D at 0x142f037f0>]"
      ]
     },
     "execution_count": 33,
     "metadata": {},
     "output_type": "execute_result"
    },
    {
     "data": {
      "image/png": "[encoded data removed]",
      "text/plain": [
       "<matplotlib.figure.Figure at 0x142f03128>"
      ]
     },
     "metadata": {},
     "output_type": "display_data"
    }
   ],
   "source": [
    "# Generate\n",
    "generated_signal = []\n",
    "initial_predict = model.predict(X[2:3,:])\n",
    "samp = initial_predict;\n",
    "preds = []\n",
    "# initial_predict = np.reshape(initial_predict, (1, 1, 1));\n",
    "\n",
    "print(\"first values\", X[2:6,].flatten())\n",
    "for i in range(1,5):\n",
    "    generated_signal.append(initial_predict[0,0])\n",
    "    initial_predict = model.predict(np.reshape(initial_predict, (1,1,1)))\n",
    "    \n",
    "\n",
    "for i in range(1,5):\n",
    "    pred = model.predict(X[i+1:i+2,:])\n",
    "    preds.append(pred[0,0])\n",
    "                            \n",
    "# generated_signal\n",
    "# preds = np.array(generated_signal)\n",
    "# preds = np.reshape(preds, (len(preds), 1, 1))\n",
    "print(\"pure predictions\", preds)\n",
    "print(\"gen predictions\", generated_signal)\n",
    "plt.plot(preds)\n",
    "plt.plot(generated_signal)\n",
    "\n",
    "                                     "
   ]
  },
  {
   "cell_type": "code",
   "execution_count": null,
   "metadata": {
    "collapsed": true
   },
   "outputs": [],
   "source": []
  }
 ],
 "metadata": {
  "kernelspec": {
   "display_name": "Python 3",
   "language": "python",
   "name": "python3"
  },
  "language_info": {
   "codemirror_mode": {
    "name": "ipython",
    "version": 3
   },
   "file_extension": ".py",
   "mimetype": "text/x-python",
   "name": "python",
   "nbconvert_exporter": "python",
   "pygments_lexer": "ipython3",
   "version": "3.6.1"
  }
 },
 "nbformat": 4,
 "nbformat_minor": 2
}
